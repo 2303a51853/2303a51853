{
  "nbformat": 4,
  "nbformat_minor": 0,
  "metadata": {
    "colab": {
      "provenance": [],
      "authorship_tag": "ABX9TyOjOuIoM4W7TKPCu//eknO7",
      "include_colab_link": true
    },
    "kernelspec": {
      "name": "python3",
      "display_name": "Python 3"
    },
    "language_info": {
      "name": "python"
    }
  },
  "cells": [
    {
      "cell_type": "markdown",
      "metadata": {
        "id": "view-in-github",
        "colab_type": "text"
      },
      "source": [
        "<a href=\"https://colab.research.google.com/github/2303a51853/2303a51853/blob/main/lab%20exam.ipynb\" target=\"_parent\"><img src=\"https://colab.research.google.com/assets/colab-badge.svg\" alt=\"Open In Colab\"/></a>"
      ]
    },
    {
      "cell_type": "markdown",
      "source": [],
      "metadata": {
        "id": "0JV51k6Q4UWb"
      }
    },
    {
      "cell_type": "markdown",
      "source": [
        "Prediction of real estate valuation based on geo-referencing.\n",
        "\n",
        "\n",
        " 1.Identify the top 5 house age values with most estate value.\n",
        "\n",
        "2. Does MRT station, Stores contribute to real estate value\n",
        "\n",
        "3. Identify the max and min house price of unit area.\n",
        "\n",
        "4. Predict the date when most transactions happed in real estate.\n",
        "\n",
        "5. Identify the closest distance perimeter for MRT Stations, stores for high real estate value."
      ],
      "metadata": {
        "id": "j_o1o0KE4Xus"
      }
    },
    {
      "cell_type": "code",
      "source": [
        "import pandas as pd"
      ],
      "metadata": {
        "id": "p4Z8wWih0ltL"
      },
      "execution_count": 38,
      "outputs": []
    },
    {
      "cell_type": "code",
      "source": [
        "file_path = \"/content/Real estate valuation data set.xlsx\"\n"
      ],
      "metadata": {
        "id": "OgX00pXU22hk"
      },
      "execution_count": 39,
      "outputs": []
    },
    {
      "cell_type": "code",
      "source": [
        "import pandas as pd\n",
        "\n",
        "file_path = \"/content/Real estate valuation data set.xlsx\"\n",
        "\n",
        "# Load the data from the excel file\n",
        "data = pd.read_excel(file_path) # Load the data from the specified path\n",
        "\n",
        "top_5_house_ages = (\n",
        "    data.groupby(\"X2 house age\")[\"Y house price of unit area\"]\n",
        "    .mean()\n",
        "    .nlargest(5)\n",
        ")\n",
        "print(\"Top 5 house age values with the highest estate value:\\n\", top_5_house_ages)"
      ],
      "metadata": {
        "colab": {
          "base_uri": "https://localhost:8080/"
        },
        "id": "DRMEcvxD3WRn",
        "outputId": "f46bcdbb-e8a5-4947-8d94-ba06269b927a"
      },
      "execution_count": 40,
      "outputs": [
        {
          "output_type": "stream",
          "name": "stdout",
          "text": [
            "Top 5 house age values with the highest estate value:\n",
            " X2 house age\n",
            "10.8    117.5\n",
            "37.2     78.3\n",
            "35.4     78.0\n",
            "41.4     63.3\n",
            "5.3      63.2\n",
            "Name: Y house price of unit area, dtype: float64\n"
          ]
        }
      ]
    },
    {
      "cell_type": "code",
      "source": [
        "correlation_mrt = data[\"X3 distance to the nearest MRT station\"].corr(\n",
        "    data[\"Y house price of unit area\"]\n",
        ")\n",
        "correlation_stores = data[\"X4 number of convenience stores\"].corr(\n",
        "    data[\"Y house price of unit area\"]\n",
        ")\n",
        "print(\n",
        "    \"Correlation of MRT distance with estate value:\", correlation_mrt,\n",
        "    \"\\nCorrelation of convenience stores with estate value:\", correlation_stores\n",
        ")"
      ],
      "metadata": {
        "colab": {
          "base_uri": "https://localhost:8080/"
        },
        "id": "xgdyk1l63bMB",
        "outputId": "0bc12d6a-2d46-4306-9581-009205263653"
      },
      "execution_count": 41,
      "outputs": [
        {
          "output_type": "stream",
          "name": "stdout",
          "text": [
            "Correlation of MRT distance with estate value: -0.6736128553689185 \n",
            "Correlation of convenience stores with estate value: 0.5710049111111483\n"
          ]
        }
      ]
    },
    {
      "cell_type": "code",
      "source": [
        "max_price = data[\"Y house price of unit area\"].max()\n",
        "min_price = data[\"Y house price of unit area\"].min()\n",
        "print(\"Maximum house price of unit area:\", max_price)\n",
        "print(\"Minimum house price of unit area:\", min_price)"
      ],
      "metadata": {
        "colab": {
          "base_uri": "https://localhost:8080/"
        },
        "id": "iOaxjopk3gQC",
        "outputId": "a40a1d55-14ce-48f4-a22e-24b36ee50b2a"
      },
      "execution_count": 42,
      "outputs": [
        {
          "output_type": "stream",
          "name": "stdout",
          "text": [
            "Maximum house price of unit area: 117.5\n",
            "Minimum house price of unit area: 7.6\n"
          ]
        }
      ]
    },
    {
      "cell_type": "code",
      "source": [
        "most_transactions_date = data[\"X1 transaction date\"].value_counts().idxmax()\n",
        "print(\"Date with  most real estate transactions:\", most_transactions_date)"
      ],
      "metadata": {
        "colab": {
          "base_uri": "https://localhost:8080/"
        },
        "id": "2iwcAG0W3kDe",
        "outputId": "fdd531c5-39c8-46b3-b9e9-f62b243e25b1"
      },
      "execution_count": 43,
      "outputs": [
        {
          "output_type": "stream",
          "name": "stdout",
          "text": [
            "Date with  most real estate transactions: 2013.4166667\n"
          ]
        }
      ]
    },
    {
      "cell_type": "code",
      "source": [
        "threshold = data[\"Y house price of unit area\"].quantile(0.75)  # Top 25% high-value\n",
        "high_value_data = data[data[\"Y house price of unit area\"] >= threshold]\n",
        "\n",
        "closest_mrt_distance = high_value_data[\"X3 distance to the nearest MRT station\"].min()\n",
        "max_stores = high_value_data[\"X4 number of convenience stores\"].max()\n",
        "\n",
        "print(\"Closest MRT station distance for high-value properties:\", closest_mrt_distance)\n",
        "print(\"Max number of stores near high-value properties:\", max_stores)"
      ],
      "metadata": {
        "colab": {
          "base_uri": "https://localhost:8080/"
        },
        "id": "zfXEoWBK3pe9",
        "outputId": "7e8ed646-9581-4e51-d957-4c0c29a8f79d"
      },
      "execution_count": 44,
      "outputs": [
        {
          "output_type": "stream",
          "name": "stdout",
          "text": [
            "Closest MRT station distance for high-value properties: 23.38284\n",
            "Max number of stores near high-value properties: 10\n"
          ]
        }
      ]
    }
  ]
}